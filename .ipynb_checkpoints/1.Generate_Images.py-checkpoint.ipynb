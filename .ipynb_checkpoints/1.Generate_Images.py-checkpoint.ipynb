{
 "cells": [
  {
   "cell_type": "code",
   "execution_count": 1,
   "id": "50a425f2",
   "metadata": {},
   "outputs": [],
   "source": [
    "import os\n",
    "import cv2 as cv\n",
    "import uuid\n",
    "import time"
   ]
  },
  {
   "cell_type": "code",
   "execution_count": 2,
   "id": "0433c0f9",
   "metadata": {},
   "outputs": [
    {
     "data": {
      "text/plain": [
       "'C:\\\\Users\\\\ASUS\\\\Desktop\\\\machine_and_deep_learning\\\\RealTimeObjectDetection'"
      ]
     },
     "execution_count": 2,
     "metadata": {},
     "output_type": "execute_result"
    }
   ],
   "source": [
    "os.getcwd()"
   ]
  },
  {
   "cell_type": "code",
   "execution_count": 31,
   "id": "f2133a91",
   "metadata": {},
   "outputs": [
    {
     "ename": "KeyboardInterrupt",
     "evalue": "",
     "output_type": "error",
     "traceback": [
      "\u001b[1;31m---------------------------------------------------------------------------\u001b[0m",
      "\u001b[1;31mKeyboardInterrupt\u001b[0m                         Traceback (most recent call last)",
      "Cell \u001b[1;32mIn[31], line 18\u001b[0m\n\u001b[0;32m     15\u001b[0m         cv\u001b[38;5;241m.\u001b[39mimshow(\u001b[38;5;124m'\u001b[39m\u001b[38;5;124mVideo Capture\u001b[39m\u001b[38;5;124m'\u001b[39m, frame)\n\u001b[0;32m     17\u001b[0m         \u001b[38;5;66;03m# 按下 'q' 键退出循环\u001b[39;00m\n\u001b[1;32m---> 18\u001b[0m         \u001b[38;5;28;01mif\u001b[39;00m \u001b[43mcv\u001b[49m\u001b[38;5;241;43m.\u001b[39;49m\u001b[43mwaitKey\u001b[49m\u001b[43m(\u001b[49m\u001b[38;5;241;43m1\u001b[39;49m\u001b[43m)\u001b[49m \u001b[38;5;241m&\u001b[39m \u001b[38;5;241m0xFF\u001b[39m \u001b[38;5;241m==\u001b[39m \u001b[38;5;28mord\u001b[39m(\u001b[38;5;124m'\u001b[39m\u001b[38;5;124mq\u001b[39m\u001b[38;5;124m'\u001b[39m):\n\u001b[0;32m     19\u001b[0m             \u001b[38;5;28;01mbreak\u001b[39;00m\n\u001b[0;32m     21\u001b[0m \u001b[38;5;66;03m# 释放摄像头并关闭窗口\u001b[39;00m\n",
      "\u001b[1;31mKeyboardInterrupt\u001b[0m: "
     ]
    }
   ],
   "source": [
    "# 打开摄像头\n",
    "cap = cv.VideoCapture(0)  # 0 表示默认摄像头\n",
    "\n",
    "while True:\n",
    "    # 读取一帧图像\n",
    "    ret, frame = cap.read()\n",
    "    \n",
    "    if ret:\n",
    "        # 生成唯一的文件名\n",
    "        unique_id = str(uuid.uuid1())\n",
    "        frame_filename = f'./Tensorflow/workspace/images/NoMask/{unique_id}.jpg'\n",
    "        cv.imwrite(frame_filename, frame)\n",
    "        \n",
    "        # 显示图像\n",
    "        cv.imshow('Video Capture', frame)\n",
    "        time.sleep(3)\n",
    "        \n",
    "        \n",
    "        # 按下 'q' 键退出循环\n",
    "        if cv.waitKey(1) & 0xFF == ord('q'):\n",
    "            # 释放摄像头并关闭窗口\n",
    "            cap.release()\n",
    "            cv.destroyAllWindows()\n",
    "            break\n",
    "\n",
    "\n"
   ]
  }
 ],
 "metadata": {
  "kernelspec": {
   "display_name": "tfod",
   "language": "python",
   "name": "tfod"
  },
  "language_info": {
   "codemirror_mode": {
    "name": "ipython",
    "version": 3
   },
   "file_extension": ".py",
   "mimetype": "text/x-python",
   "name": "python",
   "nbconvert_exporter": "python",
   "pygments_lexer": "ipython3",
   "version": "3.9.17"
  }
 },
 "nbformat": 4,
 "nbformat_minor": 5
}
